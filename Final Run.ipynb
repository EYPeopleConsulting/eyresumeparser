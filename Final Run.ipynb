{
 "cells": [
  {
   "cell_type": "code",
   "execution_count": 1,
   "id": "d4cfba98-4a49-484d-8ecf-7ed2a93a2425",
   "metadata": {},
   "outputs": [
    {
     "name": "stdout",
     "output_type": "stream",
     "text": [
      "\n",
      "🚀 Opening in browser: http://localhost:59772\n",
      " * Serving Flask app '__main__'\n",
      " * Debug mode: off\n"
     ]
    },
    {
     "name": "stderr",
     "output_type": "stream",
     "text": [
      "WARNING: This is a development server. Do not use it in a production deployment. Use a production WSGI server instead.\n",
      " * Running on http://127.0.0.1:59772\n",
      "Press CTRL+C to quit\n",
      "127.0.0.1 - - [02/Jun/2025 16:22:11] \"GET / HTTP/1.1\" 200 -\n",
      "127.0.0.1 - - [02/Jun/2025 16:22:11] \"GET /static/ey_logo.png HTTP/1.1\" 200 -\n",
      "127.0.0.1 - - [02/Jun/2025 16:22:11] \"GET /favicon.ico HTTP/1.1\" 404 -\n"
     ]
    }
   ],
   "source": [
    "import os, socket, threading, webbrowser\n",
    "from flask import Flask, request, render_template\n",
    "from utils.extract import extract_jd_text, extract_resumes\n",
    "from utils.scorer import compute_scores\n",
    "\n",
    "app = Flask(__name__)\n",
    "\n",
    "@app.route('/', methods=['GET', 'POST'])\n",
    "def index():\n",
    "    if request.method == 'POST':\n",
    "        jd_text = extract_jd_text(request)\n",
    "        if not jd_text:\n",
    "            print(\"❌ No JD text provided.\")\n",
    "            return render_template('index.html', error=\"Please upload or paste a JD.\")\n",
    "\n",
    "        mandatory_skills = [s.strip() for s in request.form['mandatory_skills'].split(',') if s.strip()]\n",
    "        must_have_skills = [s.strip() for s in request.form['must_have_skills'].split(',') if s.strip()]\n",
    "\n",
    "        resumes = extract_resumes('resumes')[:10]  # limit to 10 resumes\n",
    "        print(f\"📥 Found {len(resumes)} valid resumes.\")\n",
    "\n",
    "        if not resumes:\n",
    "            return render_template('index.html', error=\"No valid resumes found.\")\n",
    "\n",
    "        results = compute_scores(jd_text, resumes, mandatory_skills, must_have_skills)\n",
    "\n",
    "        print(f\"✅ Successfully scored {len(results)} resumes.\\n\")\n",
    "        return render_template('results.html', results=results)\n",
    "\n",
    "    return render_template('index.html')\n",
    "\n",
    "def run_app():\n",
    "    sock = socket.socket()\n",
    "    sock.bind(('', 0))\n",
    "    _, port = sock.getsockname()\n",
    "    sock.close()\n",
    "\n",
    "    url = f'http://localhost:{port}'\n",
    "    threading.Thread(target=lambda: app.run(port=port, debug=False, use_reloader=False)).start()\n",
    "    print(f\"\\n🚀 Opening in browser: {url}\")\n",
    "    webbrowser.open(url)\n",
    "\n",
    "if __name__ == '__main__':\n",
    "    run_app()\n"
   ]
  },
  {
   "cell_type": "code",
   "execution_count": 1,
   "id": "bbbdd91d-ddba-4ea9-8ebf-5748a6eed16e",
   "metadata": {},
   "outputs": [],
   "source": [
    "#new"
   ]
  },
  {
   "cell_type": "code",
   "execution_count": 2,
   "id": "e213d5f2-8db0-4694-affe-1851028d3415",
   "metadata": {},
   "outputs": [
    {
     "name": "stdout",
     "output_type": "stream",
     "text": [
      "\n",
      "🚀 Opening in browser: http://localhost:51938\n",
      " * Serving Flask app '__main__'\n",
      " * Debug mode: off\n"
     ]
    },
    {
     "name": "stderr",
     "output_type": "stream",
     "text": [
      "WARNING: This is a development server. Do not use it in a production deployment. Use a production WSGI server instead.\n",
      " * Running on http://127.0.0.1:51938\n",
      "Press CTRL+C to quit\n",
      "127.0.0.1 - - [19/Jun/2025 11:44:22] \"GET / HTTP/1.1\" 200 -\n",
      "127.0.0.1 - - [19/Jun/2025 11:44:22] \"GET /static/ey_logo.png HTTP/1.1\" 200 -\n",
      "127.0.0.1 - - [19/Jun/2025 11:44:22] \"GET /favicon.ico HTTP/1.1\" 404 -\n",
      "127.0.0.1 - - [19/Jun/2025 11:45:08] \"POST / HTTP/1.1\" 200 -\n",
      "127.0.0.1 - - [19/Jun/2025 11:45:08] \"GET /static/ey_logo.png HTTP/1.1\" 304 -\n"
     ]
    },
    {
     "name": "stdout",
     "output_type": "stream",
     "text": [
      "🔍 Scoring resume 1: Pathan Nagul Meeravali_ Revenue Assurance.pdf\n",
      "🔍 Scoring resume 2: Priti Mallick_Revenue Assurance .pdf\n",
      "🔍 Scoring resume 3: RochellePeres_Analyst - Revenue Assurance.pdf\n",
      "🔍 Scoring resume 4: Vinit Tandel_ Revenue Assurance.pdf\n",
      "🔍 Scoring resume 5: Vishal_Kulkarni_Revenue Assurance.pdf\n",
      "✅ Excel report saved at: outputs\\Resume_Score_Report_2025-06-19 11-45-08.xlsx\n"
     ]
    },
    {
     "name": "stderr",
     "output_type": "stream",
     "text": [
      "127.0.0.1 - - [19/Jun/2025 11:45:32] \"GET /outputs/Resume_Score_Report_2025-06-19%2011-45-08.xlsx HTTP/1.1\" 200 -\n",
      "127.0.0.1 - - [19/Jun/2025 11:58:14] \"GET / HTTP/1.1\" 200 -\n"
     ]
    }
   ],
   "source": [
    "import os\n",
    "import socket\n",
    "import threading\n",
    "import webbrowser\n",
    "from flask import Flask, request, render_template, send_from_directory\n",
    "from utils.extract import extract_jd_text, extract_resumes\n",
    "from utils.scorer import compute_scores\n",
    "from utils.excel_report import export_to_excel\n",
    "\n",
    "app = Flask(__name__)\n",
    "\n",
    "@app.route('/', methods=['GET', 'POST'])\n",
    "def index():\n",
    "    if request.method == 'POST':\n",
    "        jd_text = extract_jd_text(request)\n",
    "        if not jd_text:\n",
    "            return render_template('index.html', error=\"Please upload or paste a JD.\", results=[], excel_filename=None)\n",
    "\n",
    "        mandatory_skills = [s.strip() for s in request.form['mandatory_skills'].split(',') if s.strip()]\n",
    "        must_have_skills = [s.strip() for s in request.form['must_have_skills'].split(',') if s.strip()]\n",
    "\n",
    "        resumes = extract_resumes('resumes')[:10]  # Max 10 resumes\n",
    "        if not resumes:\n",
    "            return render_template('index.html', error=\"No valid resumes found.\", results=[], excel_filename=None)\n",
    "\n",
    "        results = compute_scores(jd_text, resumes, mandatory_skills, must_have_skills)\n",
    "        excel_filename = export_to_excel(results)\n",
    "\n",
    "        return render_template('results.html', results=results, excel_filename=excel_filename)\n",
    "\n",
    "    # For GET request\n",
    "    return render_template('index.html', results=[], excel_filename=None)\n",
    "\n",
    "@app.route('/outputs/<filename>')\n",
    "def download_excel(filename):\n",
    "    return send_from_directory('outputs', filename, as_attachment=True)\n",
    "\n",
    "def run_app():\n",
    "    sock = socket.socket()\n",
    "    sock.bind(('', 0))\n",
    "    _, port = sock.getsockname()\n",
    "    sock.close()\n",
    "\n",
    "    url = f'http://localhost:{port}'\n",
    "    threading.Thread(target=lambda: app.run(port=port, debug=False, use_reloader=False)).start()\n",
    "    print(f\"\\n🚀 Opening in browser: {url}\")\n",
    "    webbrowser.open(url)\n",
    "\n",
    "if __name__ == '__main__':\n",
    "    run_app()\n"
   ]
  },
  {
   "cell_type": "code",
   "execution_count": null,
   "id": "efa6d963-8626-43fb-b5cb-163df8802319",
   "metadata": {},
   "outputs": [],
   "source": []
  }
 ],
 "metadata": {
  "kernelspec": {
   "display_name": "Python 3 (ipykernel)",
   "language": "python",
   "name": "python3"
  },
  "language_info": {
   "codemirror_mode": {
    "name": "ipython",
    "version": 3
   },
   "file_extension": ".py",
   "mimetype": "text/x-python",
   "name": "python",
   "nbconvert_exporter": "python",
   "pygments_lexer": "ipython3",
   "version": "3.12.7"
  }
 },
 "nbformat": 4,
 "nbformat_minor": 5
}
