{
 "cells": [
  {
   "cell_type": "code",
   "execution_count": 1,
   "id": "c1354298-1028-4e6a-90f6-f35edc0771e2",
   "metadata": {},
   "outputs": [
    {
     "name": "stdout",
     "output_type": "stream",
     "text": [
      "\n",
      "🚀 Opening in browser: http://localhost:59141\n",
      " * Serving Flask app '__main__'\n",
      " * Debug mode: off\n"
     ]
    },
    {
     "name": "stderr",
     "output_type": "stream",
     "text": [
      "WARNING: This is a development server. Do not use it in a production deployment. Use a production WSGI server instead.\n",
      " * Running on http://127.0.0.1:59141\n",
      "Press CTRL+C to quit\n",
      "127.0.0.1 - - [28/May/2025 10:11:37] \"GET / HTTP/1.1\" 200 -\n",
      "127.0.0.1 - - [28/May/2025 10:11:37] \"GET /static/ey_logo.png HTTP/1.1\" 200 -\n",
      "127.0.0.1 - - [28/May/2025 10:11:37] \"GET /favicon.ico HTTP/1.1\" 404 -\n",
      "127.0.0.1 - - [28/May/2025 10:11:50] \"POST / HTTP/1.1\" 200 -\n",
      "127.0.0.1 - - [28/May/2025 10:11:50] \"GET /static/ey_logo.png HTTP/1.1\" 304 -\n"
     ]
    },
    {
     "name": "stdout",
     "output_type": "stream",
     "text": [
      "📥 Found 6 valid resumes.\n",
      "🔍 Scoring resume 1: Ankitha Suvarna_HR Associate.pdf\n",
      "🔍 Scoring resume 2: Antara SInha.pdf\n",
      "🔍 Scoring resume 3: Ayushi_Yadav.pdf\n",
      "🔍 Scoring resume 4: BasavarajDandin_ERC Consultant.pdf\n",
      "🔍 Scoring resume 5: Kiranvisva.pdf\n",
      "🔍 Scoring resume 6: SanjanaM_ERC Consultant.pdf\n",
      "✅ Successfully scored 6 resumes.\n",
      "\n"
     ]
    }
   ],
   "source": [
    "import os, socket, threading, webbrowser\n",
    "from flask import Flask, request, render_template\n",
    "from utils.extract import extract_jd_text, extract_resumes\n",
    "from utils.scorer import compute_scores\n",
    "\n",
    "app = Flask(__name__)\n",
    "\n",
    "@app.route('/', methods=['GET', 'POST'])\n",
    "def index():\n",
    "    if request.method == 'POST':\n",
    "        jd_text = extract_jd_text(request)\n",
    "        if not jd_text:\n",
    "            print(\"❌ No JD text provided.\")\n",
    "            return render_template('index.html', error=\"Please upload or paste a JD.\")\n",
    "\n",
    "        mandatory_skills = [s.strip() for s in request.form['mandatory_skills'].split(',') if s.strip()]\n",
    "        must_have_skills = [s.strip() for s in request.form['must_have_skills'].split(',') if s.strip()]\n",
    "\n",
    "        resumes = extract_resumes('resumes')[:10]  # limit to 10 resumes\n",
    "        print(f\"📥 Found {len(resumes)} valid resumes.\")\n",
    "\n",
    "        if not resumes:\n",
    "            return render_template('index.html', error=\"No valid resumes found.\")\n",
    "\n",
    "        results = compute_scores(jd_text, resumes, mandatory_skills, must_have_skills)\n",
    "\n",
    "        print(f\"✅ Successfully scored {len(results)} resumes.\\n\")\n",
    "        return render_template('results.html', results=results)\n",
    "\n",
    "    return render_template('index.html')\n",
    "\n",
    "def run_app():\n",
    "    sock = socket.socket()\n",
    "    sock.bind(('', 0))\n",
    "    _, port = sock.getsockname()\n",
    "    sock.close()\n",
    "\n",
    "    url = f'http://localhost:{port}'\n",
    "    threading.Thread(target=lambda: app.run(port=port, debug=False, use_reloader=False)).start()\n",
    "    print(f\"\\n🚀 Opening in browser: {url}\")\n",
    "    webbrowser.open(url)\n",
    "\n",
    "if __name__ == '__main__':\n",
    "    run_app()\n"
   ]
  },
  {
   "cell_type": "code",
   "execution_count": null,
   "id": "f08b5dfd-daab-46c6-8891-6e4aeef7453a",
   "metadata": {},
   "outputs": [],
   "source": []
  }
 ],
 "metadata": {
  "kernelspec": {
   "display_name": "Python 3 (ipykernel)",
   "language": "python",
   "name": "python3"
  },
  "language_info": {
   "codemirror_mode": {
    "name": "ipython",
    "version": 3
   },
   "file_extension": ".py",
   "mimetype": "text/x-python",
   "name": "python",
   "nbconvert_exporter": "python",
   "pygments_lexer": "ipython3",
   "version": "3.12.7"
  }
 },
 "nbformat": 4,
 "nbformat_minor": 5
}
